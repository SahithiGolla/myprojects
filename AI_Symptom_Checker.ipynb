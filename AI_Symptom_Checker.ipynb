{
 "cells": [
  {
   "cell_type": "markdown",
   "id": "07a01511",
   "metadata": {},
   "source": [
    "# AI Symptom Checker Chatbot using LLMs\n",
    "This notebook demonstrates an AI chatbot that:\n",
    "- Takes user symptom input (natural language)\n",
    "- Uses an LLM to extract symptoms\n",
    "- Matches symptoms against a disease knowledge base\n",
    "- Returns possible diagnoses"
   ]
  },
  {
   "cell_type": "code",
   "execution_count": 3,
   "id": "95355c25",
   "metadata": {},
   "outputs": [
    {
     "name": "stdout",
     "output_type": "stream",
     "text": [
      "Collecting openai\n",
      "  Using cached openai-1.97.1-py3-none-any.whl.metadata (29 kB)\n",
      "Collecting streamlit\n",
      "  Using cached streamlit-1.47.0-py3-none-any.whl.metadata (9.0 kB)\n",
      "Requirement already satisfied: anyio<5,>=3.5.0 in c:\\users\\sahit\\appdata\\local\\programs\\python\\python312\\lib\\site-packages (from openai) (4.4.0)\n",
      "Collecting distro<2,>=1.7.0 (from openai)\n",
      "  Using cached distro-1.9.0-py3-none-any.whl.metadata (6.8 kB)\n",
      "Requirement already satisfied: httpx<1,>=0.23.0 in c:\\users\\sahit\\appdata\\local\\programs\\python\\python312\\lib\\site-packages (from openai) (0.27.0)\n",
      "Collecting jiter<1,>=0.4.0 (from openai)\n",
      "  Downloading jiter-0.10.0-cp312-cp312-win_amd64.whl.metadata (5.3 kB)\n",
      "Collecting pydantic<3,>=1.9.0 (from openai)\n",
      "  Using cached pydantic-2.11.7-py3-none-any.whl.metadata (67 kB)\n",
      "Requirement already satisfied: sniffio in c:\\users\\sahit\\appdata\\local\\programs\\python\\python312\\lib\\site-packages (from openai) (1.3.1)\n",
      "Requirement already satisfied: tqdm>4 in c:\\users\\sahit\\appdata\\local\\programs\\python\\python312\\lib\\site-packages (from openai) (4.67.1)\n",
      "Requirement already satisfied: typing-extensions<5,>=4.11 in c:\\users\\sahit\\appdata\\local\\programs\\python\\python312\\lib\\site-packages (from openai) (4.13.2)\n",
      "Collecting altair<6,>=4.0 (from streamlit)\n",
      "  Using cached altair-5.5.0-py3-none-any.whl.metadata (11 kB)\n",
      "Collecting blinker<2,>=1.5.0 (from streamlit)\n",
      "  Using cached blinker-1.9.0-py3-none-any.whl.metadata (1.6 kB)\n",
      "Collecting cachetools<7,>=4.0 (from streamlit)\n",
      "  Using cached cachetools-6.1.0-py3-none-any.whl.metadata (5.4 kB)\n",
      "Collecting click<9,>=7.0 (from streamlit)\n",
      "  Using cached click-8.2.1-py3-none-any.whl.metadata (2.5 kB)\n",
      "Requirement already satisfied: numpy<3,>=1.23 in c:\\users\\sahit\\appdata\\local\\programs\\python\\python312\\lib\\site-packages (from streamlit) (2.2.4)\n",
      "Requirement already satisfied: packaging<26,>=20 in c:\\users\\sahit\\appdata\\local\\programs\\python\\python312\\lib\\site-packages (from streamlit) (24.1)\n",
      "Requirement already satisfied: pandas<3,>=1.4.0 in c:\\users\\sahit\\appdata\\local\\programs\\python\\python312\\lib\\site-packages (from streamlit) (2.2.3)\n",
      "Requirement already satisfied: pillow<12,>=7.1.0 in c:\\users\\sahit\\appdata\\local\\programs\\python\\python312\\lib\\site-packages (from streamlit) (11.2.1)\n",
      "Collecting protobuf<7,>=3.20 (from streamlit)\n",
      "  Using cached protobuf-6.31.1-cp310-abi3-win_amd64.whl.metadata (593 bytes)\n",
      "Collecting pyarrow>=7.0 (from streamlit)\n",
      "  Downloading pyarrow-21.0.0-cp312-cp312-win_amd64.whl.metadata (3.4 kB)\n",
      "Requirement already satisfied: requests<3,>=2.27 in c:\\users\\sahit\\appdata\\local\\programs\\python\\python312\\lib\\site-packages (from streamlit) (2.32.3)\n",
      "Collecting tenacity<10,>=8.1.0 (from streamlit)\n",
      "  Using cached tenacity-9.1.2-py3-none-any.whl.metadata (1.2 kB)\n",
      "Collecting toml<2,>=0.10.1 (from streamlit)\n",
      "  Using cached toml-0.10.2-py2.py3-none-any.whl.metadata (7.1 kB)\n",
      "Collecting watchdog<7,>=2.1.5 (from streamlit)\n",
      "  Using cached watchdog-6.0.0-py3-none-win_amd64.whl.metadata (44 kB)\n",
      "Collecting gitpython!=3.1.19,<4,>=3.0.7 (from streamlit)\n",
      "  Using cached gitpython-3.1.45-py3-none-any.whl.metadata (13 kB)\n",
      "Collecting pydeck<1,>=0.8.0b4 (from streamlit)\n",
      "  Using cached pydeck-0.9.1-py2.py3-none-any.whl.metadata (4.1 kB)\n",
      "Requirement already satisfied: tornado!=6.5.0,<7,>=6.0.3 in c:\\users\\sahit\\appdata\\local\\programs\\python\\python312\\lib\\site-packages (from streamlit) (6.4.1)\n",
      "Requirement already satisfied: jinja2 in c:\\users\\sahit\\appdata\\local\\programs\\python\\python312\\lib\\site-packages (from altair<6,>=4.0->streamlit) (3.1.4)\n",
      "Requirement already satisfied: jsonschema>=3.0 in c:\\users\\sahit\\appdata\\local\\programs\\python\\python312\\lib\\site-packages (from altair<6,>=4.0->streamlit) (4.23.0)\n",
      "Collecting narwhals>=1.14.2 (from altair<6,>=4.0->streamlit)\n",
      "  Using cached narwhals-1.48.1-py3-none-any.whl.metadata (11 kB)\n",
      "Requirement already satisfied: idna>=2.8 in c:\\users\\sahit\\appdata\\local\\programs\\python\\python312\\lib\\site-packages (from anyio<5,>=3.5.0->openai) (3.7)\n",
      "Requirement already satisfied: colorama in c:\\users\\sahit\\appdata\\local\\programs\\python\\python312\\lib\\site-packages (from click<9,>=7.0->streamlit) (0.4.6)\n",
      "Collecting gitdb<5,>=4.0.1 (from gitpython!=3.1.19,<4,>=3.0.7->streamlit)\n",
      "  Using cached gitdb-4.0.12-py3-none-any.whl.metadata (1.2 kB)\n",
      "Requirement already satisfied: certifi in c:\\users\\sahit\\appdata\\local\\programs\\python\\python312\\lib\\site-packages (from httpx<1,>=0.23.0->openai) (2024.7.4)\n",
      "Requirement already satisfied: httpcore==1.* in c:\\users\\sahit\\appdata\\local\\programs\\python\\python312\\lib\\site-packages (from httpx<1,>=0.23.0->openai) (1.0.5)\n",
      "Requirement already satisfied: h11<0.15,>=0.13 in c:\\users\\sahit\\appdata\\local\\programs\\python\\python312\\lib\\site-packages (from httpcore==1.*->httpx<1,>=0.23.0->openai) (0.14.0)\n",
      "Requirement already satisfied: python-dateutil>=2.8.2 in c:\\users\\sahit\\appdata\\local\\programs\\python\\python312\\lib\\site-packages (from pandas<3,>=1.4.0->streamlit) (2.9.0.post0)\n",
      "Requirement already satisfied: pytz>=2020.1 in c:\\users\\sahit\\appdata\\local\\programs\\python\\python312\\lib\\site-packages (from pandas<3,>=1.4.0->streamlit) (2025.2)\n",
      "Requirement already satisfied: tzdata>=2022.7 in c:\\users\\sahit\\appdata\\local\\programs\\python\\python312\\lib\\site-packages (from pandas<3,>=1.4.0->streamlit) (2025.2)\n",
      "Collecting annotated-types>=0.6.0 (from pydantic<3,>=1.9.0->openai)\n",
      "  Using cached annotated_types-0.7.0-py3-none-any.whl.metadata (15 kB)\n",
      "Collecting pydantic-core==2.33.2 (from pydantic<3,>=1.9.0->openai)\n",
      "  Downloading pydantic_core-2.33.2-cp312-cp312-win_amd64.whl.metadata (6.9 kB)\n",
      "Collecting typing-inspection>=0.4.0 (from pydantic<3,>=1.9.0->openai)\n",
      "  Using cached typing_inspection-0.4.1-py3-none-any.whl.metadata (2.6 kB)\n",
      "Requirement already satisfied: charset-normalizer<4,>=2 in c:\\users\\sahit\\appdata\\local\\programs\\python\\python312\\lib\\site-packages (from requests<3,>=2.27->streamlit) (3.3.2)\n",
      "Requirement already satisfied: urllib3<3,>=1.21.1 in c:\\users\\sahit\\appdata\\local\\programs\\python\\python312\\lib\\site-packages (from requests<3,>=2.27->streamlit) (2.2.2)\n",
      "Collecting smmap<6,>=3.0.1 (from gitdb<5,>=4.0.1->gitpython!=3.1.19,<4,>=3.0.7->streamlit)\n",
      "  Using cached smmap-5.0.2-py3-none-any.whl.metadata (4.3 kB)\n",
      "Requirement already satisfied: MarkupSafe>=2.0 in c:\\users\\sahit\\appdata\\local\\programs\\python\\python312\\lib\\site-packages (from jinja2->altair<6,>=4.0->streamlit) (2.1.5)\n",
      "Requirement already satisfied: attrs>=22.2.0 in c:\\users\\sahit\\appdata\\local\\programs\\python\\python312\\lib\\site-packages (from jsonschema>=3.0->altair<6,>=4.0->streamlit) (23.2.0)\n",
      "Requirement already satisfied: jsonschema-specifications>=2023.03.6 in c:\\users\\sahit\\appdata\\local\\programs\\python\\python312\\lib\\site-packages (from jsonschema>=3.0->altair<6,>=4.0->streamlit) (2023.12.1)\n",
      "Requirement already satisfied: referencing>=0.28.4 in c:\\users\\sahit\\appdata\\local\\programs\\python\\python312\\lib\\site-packages (from jsonschema>=3.0->altair<6,>=4.0->streamlit) (0.35.1)\n",
      "Requirement already satisfied: rpds-py>=0.7.1 in c:\\users\\sahit\\appdata\\local\\programs\\python\\python312\\lib\\site-packages (from jsonschema>=3.0->altair<6,>=4.0->streamlit) (0.19.0)\n",
      "Requirement already satisfied: six>=1.5 in c:\\users\\sahit\\appdata\\local\\programs\\python\\python312\\lib\\site-packages (from python-dateutil>=2.8.2->pandas<3,>=1.4.0->streamlit) (1.16.0)\n",
      "Using cached openai-1.97.1-py3-none-any.whl (764 kB)\n",
      "Using cached streamlit-1.47.0-py3-none-any.whl (9.9 MB)\n",
      "Using cached altair-5.5.0-py3-none-any.whl (731 kB)\n",
      "Using cached blinker-1.9.0-py3-none-any.whl (8.5 kB)\n",
      "Using cached cachetools-6.1.0-py3-none-any.whl (11 kB)\n",
      "Using cached click-8.2.1-py3-none-any.whl (102 kB)\n",
      "Using cached distro-1.9.0-py3-none-any.whl (20 kB)\n",
      "Using cached gitpython-3.1.45-py3-none-any.whl (208 kB)\n",
      "Downloading jiter-0.10.0-cp312-cp312-win_amd64.whl (206 kB)\n",
      "Using cached protobuf-6.31.1-cp310-abi3-win_amd64.whl (435 kB)\n",
      "Downloading pyarrow-21.0.0-cp312-cp312-win_amd64.whl (26.2 MB)\n",
      "   ---------------------------------------- 0.0/26.2 MB ? eta -:--:--\n",
      "   ------ --------------------------------- 3.9/26.2 MB 23.5 MB/s eta 0:00:01\n",
      "   ------------ --------------------------- 7.9/26.2 MB 21.2 MB/s eta 0:00:01\n",
      "   -------------------- ------------------- 13.1/26.2 MB 18.3 MB/s eta 0:00:01\n",
      "   ---------------------- ----------------- 14.9/26.2 MB 16.5 MB/s eta 0:00:01\n",
      "   ------------------------------ --------- 19.7/26.2 MB 16.1 MB/s eta 0:00:01\n",
      "   ------------------------------------- -- 24.4/26.2 MB 16.8 MB/s eta 0:00:01\n",
      "   ---------------------------------------- 26.2/26.2 MB 15.5 MB/s eta 0:00:00\n",
      "Using cached pydantic-2.11.7-py3-none-any.whl (444 kB)\n",
      "Downloading pydantic_core-2.33.2-cp312-cp312-win_amd64.whl (2.0 MB)\n",
      "   ---------------------------------------- 0.0/2.0 MB ? eta -:--:--\n",
      "   ---------------------------------------- 2.0/2.0 MB 10.9 MB/s eta 0:00:00\n",
      "Using cached pydeck-0.9.1-py2.py3-none-any.whl (6.9 MB)\n",
      "Using cached tenacity-9.1.2-py3-none-any.whl (28 kB)\n",
      "Using cached toml-0.10.2-py2.py3-none-any.whl (16 kB)\n",
      "Using cached watchdog-6.0.0-py3-none-win_amd64.whl (79 kB)\n",
      "Using cached annotated_types-0.7.0-py3-none-any.whl (13 kB)\n",
      "Using cached gitdb-4.0.12-py3-none-any.whl (62 kB)\n",
      "Using cached narwhals-1.48.1-py3-none-any.whl (377 kB)\n",
      "Using cached typing_inspection-0.4.1-py3-none-any.whl (14 kB)\n",
      "Using cached smmap-5.0.2-py3-none-any.whl (24 kB)\n",
      "Installing collected packages: watchdog, typing-inspection, toml, tenacity, smmap, pydantic-core, pyarrow, protobuf, narwhals, jiter, distro, click, cachetools, blinker, annotated-types, pydeck, pydantic, gitdb, openai, gitpython, altair, streamlit\n",
      "Successfully installed altair-5.5.0 annotated-types-0.7.0 blinker-1.9.0 cachetools-6.1.0 click-8.2.1 distro-1.9.0 gitdb-4.0.12 gitpython-3.1.45 jiter-0.10.0 narwhals-1.48.1 openai-1.97.1 protobuf-6.31.1 pyarrow-21.0.0 pydantic-2.11.7 pydantic-core-2.33.2 pydeck-0.9.1 smmap-5.0.2 streamlit-1.47.0 tenacity-9.1.2 toml-0.10.2 typing-inspection-0.4.1 watchdog-6.0.0\n",
      "Note: you may need to restart the kernel to use updated packages.\n"
     ]
    },
    {
     "name": "stderr",
     "output_type": "stream",
     "text": [
      "\n",
      "[notice] A new release of pip is available: 24.2 -> 25.1.1\n",
      "[notice] To update, run: C:\\Users\\sahit\\AppData\\Local\\Programs\\Python\\Python312\\python.exe -m pip install --upgrade pip\n"
     ]
    }
   ],
   "source": [
    "pip install openai streamlit"
   ]
  },
  {
   "cell_type": "code",
   "execution_count": 4,
   "id": "b66a3ff9",
   "metadata": {},
   "outputs": [],
   "source": [
    "import openai\n",
    "import os"
   ]
  },
  {
   "cell_type": "code",
   "execution_count": 5,
   "id": "860ead8f",
   "metadata": {},
   "outputs": [],
   "source": [
    "# Defining LLM Symptom Extraction Function\n",
    "def extract_symptoms(text):\n",
    "    prompt = f\"\"\"Extract the symptoms mentioned from this input:\n",
    "    \\\"{text}\\\"\n",
    "    Return as a comma-separated list.\"\"\"\n",
    "\n",
    "    response = openai.ChatCompletion.create(\n",
    "        model=\"gpt-3.5-turbo\",\n",
    "        messages=[{\"role\": \"user\", \"content\": prompt}]\n",
    "    )\n",
    "\n",
    "    symptoms = response.choices[0].message.content.strip()\n",
    "    return [s.strip().lower() for s in symptoms.split(\",\")]"
   ]
  },
  {
   "cell_type": "code",
   "execution_count": 6,
   "id": "e6572888",
   "metadata": {},
   "outputs": [],
   "source": [
    "#  Rule-based Diagnosis Logic\n",
    "def diagnose(symptoms):\n",
    "    knowledge_base = {\n",
    "        \"Common Cold\": [\"sore throat\", \"runny nose\", \"cough\", \"sneezing\"],\n",
    "        \"Flu\": [\"fever\", \"chills\", \"muscle aches\", \"fatigue\"],\n",
    "        \"COVID-19\": [\"fever\", \"dry cough\", \"loss of taste\", \"difficulty breathing\"],\n",
    "        \"Migraine\": [\"headache\", \"nausea\", \"light sensitivity\"]\n",
    "    }\n",
    "\n",
    "    matched = []\n",
    "    for disease, symptom_list in knowledge_base.items():\n",
    "        if any(symptom in symptoms for symptom in symptom_list):\n",
    "            matched.append(disease)\n",
    "\n",
    "    return matched or [\"No strong match. Please consult a physician.\"]"
   ]
  },
  {
   "cell_type": "code",
   "execution_count": 7,
   "id": "77507b82",
   "metadata": {},
   "outputs": [
    {
     "name": "stdout",
     "output_type": "stream",
     "text": [
      "Symptoms: ['fever', 'dry cough', 'chills']\n",
      "Possible Diagnosis: ['Flu', 'COVID-19']\n"
     ]
    }
   ],
   "source": [
    "# Running the Chatbot \n",
    "# Replacing with actual API key for real usage\n",
    "# openai.api_key = os.getenv(\"OPENAI_API_KEY\")\n",
    "\n",
    "user_input = \"I have fever, dry cough, and chills.\"\n",
    "# In actual usage: symptoms = extract_symptoms(user_input)\n",
    "symptoms = [\"fever\", \"dry cough\", \"chills\"]  # Mock output\n",
    "print(\"Symptoms:\", symptoms)\n",
    "print(\"Possible Diagnosis:\", diagnose(symptoms))"
   ]
  },
  {
   "cell_type": "code",
   "execution_count": null,
   "id": "f9ecbf88-621a-445f-a5f5-20f8ecd849f3",
   "metadata": {},
   "outputs": [],
   "source": []
  },
  {
   "cell_type": "code",
   "execution_count": 16,
   "id": "45972528-728a-4070-b4df-72453528bfa2",
   "metadata": {},
   "outputs": [
    {
     "name": "stdout",
     "output_type": "stream",
     "text": [
      "Symptom Severity Detected:\n",
      " fever: 1\n",
      " cough: 2\n",
      " headache: 3\n"
     ]
    }
   ],
   "source": [
    "#  Defining severity mapping\n",
    "severity_map = {\n",
    "    \"mild\": 1,\n",
    "    \"moderate\": 2,\n",
    "    \"high\": 3,\n",
    "    \"severe\": 3,\n",
    "    \"none\": 0\n",
    "}\n",
    "\n",
    "#  Sample user input\n",
    "user_input = \"I have mild fever, high headache and moderate cough\"\n",
    "\n",
    "#  Extracting symptom-severity pairs\n",
    "def extract_symptom_severity(text):\n",
    "    import re\n",
    "    results = []\n",
    "\n",
    "    for severity in severity_map.keys():\n",
    "        pattern = rf\"\\b{severity}\\s+(\\w+)\\b\"\n",
    "        matches = re.findall(pattern, text)\n",
    "        for match in matches:\n",
    "            results.append((match.lower(), severity_map[severity]))\n",
    "    \n",
    "    return results\n",
    "\n",
    "\n",
    "output = extract_symptom_severity(user_input)\n",
    "print(\"Symptom Severity Detected:\")\n",
    "for symptom, severity_score in output:\n",
    "    print(f\" {symptom}: {severity_score}\")\n"
   ]
  },
  {
   "cell_type": "code",
   "execution_count": null,
   "id": "e6d850a6-a97c-4d6d-abb1-04955f2cc337",
   "metadata": {},
   "outputs": [],
   "source": []
  }
 ],
 "metadata": {
  "kernelspec": {
   "display_name": "Python 3 (ipykernel)",
   "language": "python",
   "name": "python3"
  },
  "language_info": {
   "codemirror_mode": {
    "name": "ipython",
    "version": 3
   },
   "file_extension": ".py",
   "mimetype": "text/x-python",
   "name": "python",
   "nbconvert_exporter": "python",
   "pygments_lexer": "ipython3",
   "version": "3.12.5"
  }
 },
 "nbformat": 4,
 "nbformat_minor": 5
}
